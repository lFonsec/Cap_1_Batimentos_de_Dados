{
  "metadata": {
    "kernelspec": {
      "language": "python",
      "display_name": "Python 3",
      "name": "python3"
    },
    "language_info": {
      "name": "python",
      "version": "3.11.11",
      "mimetype": "text/x-python",
      "codemirror_mode": {
        "name": "ipython",
        "version": 3
      },
      "pygments_lexer": "ipython3",
      "nbconvert_exporter": "python",
      "file_extension": ".py"
    },
    "kaggle": {
      "accelerator": "none",
      "dataSources": [
        {
          "sourceId": 6832522,
          "sourceType": "datasetVersion",
          "datasetId": 3928177
        }
      ],
      "dockerImageVersionId": 31040,
      "isInternetEnabled": true,
      "language": "python",
      "sourceType": "notebook",
      "isGpuEnabled": false
    },
    "colab": {
      "name": "notebookf90e00cb60",
      "provenance": []
    }
  },
  "nbformat_minor": 0,
  "nbformat": 4,
  "cells": [
    {
      "source": [
        "# IMPORTANT: RUN THIS CELL IN ORDER TO IMPORT YOUR KAGGLE DATA SOURCES,\n",
        "# THEN FEEL FREE TO DELETE THIS CELL.\n",
        "# NOTE: THIS NOTEBOOK ENVIRONMENT DIFFERS FROM KAGGLE'S PYTHON\n",
        "# ENVIRONMENT SO THERE MAY BE MISSING LIBRARIES USED BY YOUR\n",
        "# NOTEBOOK.\n",
        "import kagglehub\n",
        "xiaoweixumedicalai_cardiacudc_dataset_path = kagglehub.dataset_download('xiaoweixumedicalai/cardiacudc-dataset')\n",
        "\n",
        "print('Data source import complete.')\n"
      ],
      "metadata": {
        "colab": {
          "base_uri": "https://localhost:8080/"
        },
        "id": "WEzqxQSle6rw",
        "outputId": "0a95000e-8d79-4d70-cb1a-d66932d70c54"
      },
      "cell_type": "code",
      "outputs": [
        {
          "output_type": "stream",
          "name": "stdout",
          "text": [
            "Data source import complete.\n"
          ]
        }
      ],
      "execution_count": 29
    },
    {
      "cell_type": "code",
      "source": [
        "# This Python 3 environment comes with many helpful analytics libraries installed\n",
        "# It is defined by the kaggle/python Docker image: https://github.com/kaggle/docker-python\n",
        "# For example, here's several helpful packages to load\n",
        "\n",
        "import numpy as np # linear algebra\n",
        "import pandas as pd # data processing, CSV file I/O (e.g. pd.read_csv)\n",
        "\n",
        "# Input data files are available in the read-only \"../input/\" directory\n",
        "# For example, running this (by clicking run or pressing Shift+Enter) will list all files under the input directory\n",
        "\n",
        "import os\n",
        "for dirname, _, filenames in os.walk('/kaggle/input'):\n",
        "    for filename in filenames:\n",
        "        print(os.path.join(dirname, filename))\n",
        "\n",
        "# You can write up to 20GB to the current directory (/kaggle/working/) that gets preserved as output when you create a version using \"Save & Run All\"\n",
        "# You can also write temporary files to /kaggle/temp/, but they won't be saved outside of the current session"
      ],
      "metadata": {
        "_uuid": "8f2839f25d086af736a60e9eeb907d3b93b6e0e5",
        "_cell_guid": "b1076dfc-b9ad-4769-8c92-a6c4dae69d19",
        "trusted": true,
        "execution": {
          "iopub.status.busy": "2025-08-30T19:35:54.490791Z",
          "iopub.execute_input": "2025-08-30T19:35:54.491119Z",
          "iopub.status.idle": "2025-08-30T19:35:56.708075Z",
          "shell.execute_reply.started": "2025-08-30T19:35:54.491088Z",
          "shell.execute_reply": "2025-08-30T19:35:56.706952Z"
        },
        "colab": {
          "base_uri": "https://localhost:8080/"
        },
        "id": "G5251sd0e6ry",
        "outputId": "9b0b476c-3f40-4483-d751-2fe251d6b9d7"
      },
      "outputs": [
        {
          "output_type": "stream",
          "name": "stdout",
          "text": [
            "/kaggle/input/cardiacudc-dataset/cardiacUDC_dataset.z04\n",
            "/kaggle/input/cardiacudc-dataset/cardiacUDC_dataset.z01\n",
            "/kaggle/input/cardiacudc-dataset/cardiacUDC_dataset.z03\n",
            "/kaggle/input/cardiacudc-dataset/cardiacUDC_dataset.z05\n",
            "/kaggle/input/cardiacudc-dataset/cardiacUDC_dataset.z06\n",
            "/kaggle/input/cardiacudc-dataset/cardiacUDC_dataset.z02\n",
            "/kaggle/input/cardiacudc-dataset/cardiacUDC_dataset.change2zip\n"
          ]
        }
      ],
      "execution_count": 30
    },
    {
      "cell_type": "code",
      "source": [
        "import os\n",
        "\n",
        "# List the files in the dataset directory\n",
        "# Use the path provided by kagglehub\n",
        "print(os.listdir(xiaoweixumedicalai_cardiacudc_dataset_path))"
      ],
      "metadata": {
        "trusted": true,
        "execution": {
          "iopub.status.busy": "2025-08-30T19:35:56.709044Z",
          "iopub.execute_input": "2025-08-30T19:35:56.70958Z",
          "iopub.status.idle": "2025-08-30T19:35:56.717288Z",
          "shell.execute_reply.started": "2025-08-30T19:35:56.709557Z",
          "shell.execute_reply": "2025-08-30T19:35:56.716436Z"
        },
        "colab": {
          "base_uri": "https://localhost:8080/"
        },
        "id": "AWmIwVTpe6rz",
        "outputId": "4b650947-60cc-42fa-9442-5e35a6ddd392"
      },
      "outputs": [
        {
          "output_type": "stream",
          "name": "stdout",
          "text": [
            "['cardiacUDC_dataset.z04', 'cardiacUDC_dataset.z01', 'cardiacUDC_dataset.z03', 'cardiacUDC_dataset.z05', 'cardiacUDC_dataset.z06', 'cardiacUDC_dataset.z02', 'cardiacUDC_dataset.change2zip']\n"
          ]
        }
      ],
      "execution_count": 31
    },
    {
      "cell_type": "code",
      "source": [
        "# Unzip the dataset\n",
        "!unzip /kaggle/input/cardiacudc-dataset/cardiacUDC_dataset.z01 -d /kaggle/working/cardiacudc_new"
      ],
      "metadata": {
        "trusted": true,
        "execution": {
          "iopub.status.busy": "2025-08-30T19:35:56.719207Z",
          "iopub.execute_input": "2025-08-30T19:35:56.719516Z",
          "iopub.status.idle": "2025-08-30T19:35:56.892274Z",
          "shell.execute_reply.started": "2025-08-30T19:35:56.719494Z",
          "shell.execute_reply": "2025-08-30T19:35:56.891009Z"
        },
        "colab": {
          "base_uri": "https://localhost:8080/"
        },
        "id": "P1yTMtlie6r0",
        "outputId": "ffac449e-aed1-4ee2-d4ec-7f8541d5f04f"
      },
      "outputs": [
        {
          "output_type": "stream",
          "name": "stdout",
          "text": [
            "Archive:  /kaggle/input/cardiacudc-dataset/cardiacUDC_dataset.z01\n",
            "  End-of-central-directory signature not found.  Either this file is not\n",
            "  a zipfile, or it constitutes one disk of a multi-part archive.  In the\n",
            "  latter case the central directory and zipfile comment will be found on\n",
            "  the last disk(s) of this archive.\n",
            "unzip:  cannot find zipfile directory in one of /kaggle/input/cardiacudc-dataset/cardiacUDC_dataset.z01 or\n",
            "        /kaggle/input/cardiacudc-dataset/cardiacUDC_dataset.z01.zip, and cannot find /kaggle/input/cardiacudc-dataset/cardiacUDC_dataset.z01.ZIP, period.\n"
          ]
        }
      ],
      "execution_count": 32
    },
    {
      "cell_type": "code",
      "source": [
        "!unzip /kaggle/input/cardiacudc-dataset/cardiacUDC_dataset.z02 -d /kaggle/working/cardiacudc_new"
      ],
      "metadata": {
        "trusted": true,
        "execution": {
          "iopub.status.busy": "2025-08-30T19:35:56.893607Z",
          "iopub.execute_input": "2025-08-30T19:35:56.893909Z",
          "iopub.status.idle": "2025-08-30T19:35:57.053682Z",
          "shell.execute_reply.started": "2025-08-30T19:35:56.89387Z",
          "shell.execute_reply": "2025-08-30T19:35:57.052613Z"
        },
        "colab": {
          "base_uri": "https://localhost:8080/"
        },
        "id": "NN0dUf6_e6r1",
        "outputId": "cd7a94d0-e294-42a8-a15b-5efdc5e51ac2"
      },
      "outputs": [
        {
          "output_type": "stream",
          "name": "stdout",
          "text": [
            "Archive:  /kaggle/input/cardiacudc-dataset/cardiacUDC_dataset.z02\n",
            "  End-of-central-directory signature not found.  Either this file is not\n",
            "  a zipfile, or it constitutes one disk of a multi-part archive.  In the\n",
            "  latter case the central directory and zipfile comment will be found on\n",
            "  the last disk(s) of this archive.\n",
            "unzip:  cannot find zipfile directory in one of /kaggle/input/cardiacudc-dataset/cardiacUDC_dataset.z02 or\n",
            "        /kaggle/input/cardiacudc-dataset/cardiacUDC_dataset.z02.zip, and cannot find /kaggle/input/cardiacudc-dataset/cardiacUDC_dataset.z02.ZIP, period.\n"
          ]
        }
      ],
      "execution_count": 33
    },
    {
      "cell_type": "code",
      "source": [
        "!unzip /kaggle/input/cardiacudc-dataset/cardiacUDC_dataset.z03 -d /kaggle/working/cardiacudc_new"
      ],
      "metadata": {
        "trusted": true,
        "execution": {
          "iopub.status.busy": "2025-08-30T19:35:57.055372Z",
          "iopub.execute_input": "2025-08-30T19:35:57.05577Z",
          "iopub.status.idle": "2025-08-30T19:35:57.222631Z",
          "shell.execute_reply.started": "2025-08-30T19:35:57.055724Z",
          "shell.execute_reply": "2025-08-30T19:35:57.221656Z"
        },
        "colab": {
          "base_uri": "https://localhost:8080/"
        },
        "id": "S2YEOPzye6r1",
        "outputId": "e599e7c2-eef2-48c1-c2a1-4418f94585bd"
      },
      "outputs": [
        {
          "output_type": "stream",
          "name": "stdout",
          "text": [
            "Archive:  /kaggle/input/cardiacudc-dataset/cardiacUDC_dataset.z03\n",
            "  End-of-central-directory signature not found.  Either this file is not\n",
            "  a zipfile, or it constitutes one disk of a multi-part archive.  In the\n",
            "  latter case the central directory and zipfile comment will be found on\n",
            "  the last disk(s) of this archive.\n",
            "unzip:  cannot find zipfile directory in one of /kaggle/input/cardiacudc-dataset/cardiacUDC_dataset.z03 or\n",
            "        /kaggle/input/cardiacudc-dataset/cardiacUDC_dataset.z03.zip, and cannot find /kaggle/input/cardiacudc-dataset/cardiacUDC_dataset.z03.ZIP, period.\n"
          ]
        }
      ],
      "execution_count": 34
    },
    {
      "cell_type": "code",
      "source": [
        "!unzip /kaggle/input/cardiacudc-dataset/cardiacUDC_dataset.z04 -d /kaggle/working/cardiacudc_new"
      ],
      "metadata": {
        "trusted": true,
        "execution": {
          "iopub.status.busy": "2025-08-30T19:35:57.223748Z",
          "iopub.execute_input": "2025-08-30T19:35:57.224033Z",
          "iopub.status.idle": "2025-08-30T19:35:57.362906Z",
          "shell.execute_reply.started": "2025-08-30T19:35:57.224005Z",
          "shell.execute_reply": "2025-08-30T19:35:57.361772Z"
        },
        "colab": {
          "base_uri": "https://localhost:8080/"
        },
        "id": "gs3eQjyye6r1",
        "outputId": "3b7b6faa-2bf9-489e-8dcb-a200d7a0de7d"
      },
      "outputs": [
        {
          "output_type": "stream",
          "name": "stdout",
          "text": [
            "Archive:  /kaggle/input/cardiacudc-dataset/cardiacUDC_dataset.z04\n",
            "  End-of-central-directory signature not found.  Either this file is not\n",
            "  a zipfile, or it constitutes one disk of a multi-part archive.  In the\n",
            "  latter case the central directory and zipfile comment will be found on\n",
            "  the last disk(s) of this archive.\n",
            "unzip:  cannot find zipfile directory in one of /kaggle/input/cardiacudc-dataset/cardiacUDC_dataset.z04 or\n",
            "        /kaggle/input/cardiacudc-dataset/cardiacUDC_dataset.z04.zip, and cannot find /kaggle/input/cardiacudc-dataset/cardiacUDC_dataset.z04.ZIP, period.\n"
          ]
        }
      ],
      "execution_count": 35
    },
    {
      "cell_type": "code",
      "source": [
        "!unzip /kaggle/input/cardiacudc-dataset/cardiacUDC_dataset.z05 -d /kaggle/working/cardiacudc_new"
      ],
      "metadata": {
        "trusted": true,
        "execution": {
          "iopub.status.busy": "2025-08-30T19:35:57.364262Z",
          "iopub.execute_input": "2025-08-30T19:35:57.364531Z",
          "iopub.status.idle": "2025-08-30T19:35:57.50727Z",
          "shell.execute_reply.started": "2025-08-30T19:35:57.364504Z",
          "shell.execute_reply": "2025-08-30T19:35:57.506229Z"
        },
        "colab": {
          "base_uri": "https://localhost:8080/"
        },
        "id": "_2hMJlkfe6r2",
        "outputId": "02fc9a58-3747-42b0-cb5e-63b363328bb6"
      },
      "outputs": [
        {
          "output_type": "stream",
          "name": "stdout",
          "text": [
            "Archive:  /kaggle/input/cardiacudc-dataset/cardiacUDC_dataset.z05\n",
            "  End-of-central-directory signature not found.  Either this file is not\n",
            "  a zipfile, or it constitutes one disk of a multi-part archive.  In the\n",
            "  latter case the central directory and zipfile comment will be found on\n",
            "  the last disk(s) of this archive.\n",
            "unzip:  cannot find zipfile directory in one of /kaggle/input/cardiacudc-dataset/cardiacUDC_dataset.z05 or\n",
            "        /kaggle/input/cardiacudc-dataset/cardiacUDC_dataset.z05.zip, and cannot find /kaggle/input/cardiacudc-dataset/cardiacUDC_dataset.z05.ZIP, period.\n"
          ]
        }
      ],
      "execution_count": 36
    },
    {
      "cell_type": "code",
      "source": [
        "!unzip /kaggle/input/cardiacudc-dataset/cardiacUDC_dataset.z06 -d /kaggle/working/cardiacudc_new"
      ],
      "metadata": {
        "trusted": true,
        "execution": {
          "iopub.status.busy": "2025-08-30T19:35:57.508936Z",
          "iopub.execute_input": "2025-08-30T19:35:57.509319Z",
          "iopub.status.idle": "2025-08-30T19:35:57.65386Z",
          "shell.execute_reply.started": "2025-08-30T19:35:57.509278Z",
          "shell.execute_reply": "2025-08-30T19:35:57.652736Z"
        },
        "colab": {
          "base_uri": "https://localhost:8080/"
        },
        "id": "RnwBOZH1e6r2",
        "outputId": "905c2354-0829-4aae-aa9f-5560e0f65dfc"
      },
      "outputs": [
        {
          "output_type": "stream",
          "name": "stdout",
          "text": [
            "Archive:  /kaggle/input/cardiacudc-dataset/cardiacUDC_dataset.z06\n",
            "  End-of-central-directory signature not found.  Either this file is not\n",
            "  a zipfile, or it constitutes one disk of a multi-part archive.  In the\n",
            "  latter case the central directory and zipfile comment will be found on\n",
            "  the last disk(s) of this archive.\n",
            "unzip:  cannot find zipfile directory in one of /kaggle/input/cardiacudc-dataset/cardiacUDC_dataset.z06 or\n",
            "        /kaggle/input/cardiacudc-dataset/cardiacUDC_dataset.z06.zip, and cannot find /kaggle/input/cardiacudc-dataset/cardiacUDC_dataset.z06.ZIP, period.\n"
          ]
        }
      ],
      "execution_count": 37
    },
    {
      "cell_type": "code",
      "source": [
        "!unzip /kaggle/input/cardiacudc-dataset/cardiacUDC_dataset.change2zip -d /kaggle/working/cardiacudc_new"
      ],
      "metadata": {
        "trusted": true,
        "execution": {
          "iopub.status.busy": "2025-08-30T19:35:57.657105Z",
          "iopub.execute_input": "2025-08-30T19:35:57.657401Z",
          "iopub.status.idle": "2025-08-30T19:36:00.027564Z",
          "shell.execute_reply.started": "2025-08-30T19:35:57.657373Z",
          "shell.execute_reply": "2025-08-30T19:36:00.026561Z"
        },
        "colab": {
          "base_uri": "https://localhost:8080/"
        },
        "id": "cU4X4pMce6r3",
        "outputId": "2acb37fc-4010-4dd0-a1cf-eb860aa7902e"
      },
      "outputs": [
        {
          "output_type": "stream",
          "name": "stdout",
          "text": [
            "Archive:  /kaggle/input/cardiacudc-dataset/cardiacUDC_dataset.change2zip\n",
            "warning [/kaggle/input/cardiacudc-dataset/cardiacUDC_dataset.change2zip]:  zipfile claims to be last disk of a multi-part archive;\n",
            "  attempting to process anyway, assuming all parts have been concatenated\n",
            "  together in order.  Expect \"errors\" and warnings...true multi-part support\n",
            "  doesn't exist yet (coming soon).\n",
            "file #1:  bad zipfile offset (local header sig):  4\n",
            "file #2:  bad zipfile offset (local header sig):  53\n",
            "file #3:  bad zipfile offset (local header sig):  118\n",
            "file #4:  bad zipfile offset (local header sig):  8650252\n",
            "file #5:  bad zipfile offset (local header sig):  8810570\n",
            "file #6:  bad zipfile offset (local header sig):  14596229\n",
            "file #7:  bad zipfile offset (local header sig):  14757314\n",
            "file #8:  bad zipfile offset (local header sig):  21999873\n",
            "file #9:  bad zipfile offset (local header sig):  22146034\n",
            "file #10:  bad zipfile offset (local header sig):  28169741\n",
            "file #11:  bad zipfile offset (local header sig):  28276831\n",
            "file #12:  bad zipfile offset (local header sig):  35581646\n",
            "file #13:  bad zipfile offset (local header sig):  35699924\n",
            "file #14:  bad zipfile offset (local header sig):  43773124\n",
            "file #15:  bad zipfile offset (local header sig):  43892583\n",
            "file #16:  bad zipfile offset (local header sig):  50195330\n",
            "file #17:  bad zipfile offset (local header sig):  50342756\n",
            "file #18:  bad zipfile offset (local header sig):  56899952\n",
            "file #19:  bad zipfile offset (local header sig):  57016944\n",
            "file #20:  bad zipfile offset (local header sig):  62488162\n",
            "file #21:  bad zipfile offset (local header sig):  62631231\n",
            "file #22:  bad zipfile offset (local header sig):  68273911\n",
            "file #23:  bad zipfile offset (local header sig):  68389973\n",
            "file #24:  bad zipfile offset (local header sig):  68390033\n",
            "file #25:  bad zipfile offset (local header sig):  79594736\n",
            "file #26:  bad zipfile offset (local header sig):  79603073\n",
            "file #27:  bad zipfile offset (local header sig):  91002618\n",
            "file #28:  bad zipfile offset (local header sig):  91013080\n",
            "file #29:  bad zipfile offset (local header sig):  101724348\n",
            "file #30:  bad zipfile offset (local header sig):  101736134\n",
            "file #31:  bad zipfile offset (lseek):  113131520\n",
            "file #32:  bad zipfile offset (lseek):  113139712\n",
            "file #33:  bad zipfile offset (lseek):  122544128\n",
            "file #34:  bad zipfile offset (lseek):  122552320\n",
            "file #35:  bad zipfile offset (lseek):  132546560\n",
            "file #36:  bad zipfile offset (lseek):  132554752\n",
            "file #37:  bad zipfile offset (lseek):  142499840\n",
            "file #38:  bad zipfile offset (lseek):  142508032\n",
            "file #39:  bad zipfile offset (lseek):  154124288\n",
            "file #40:  bad zipfile offset (lseek):  154140672\n",
            "file #41:  bad zipfile offset (lseek):  163258368\n",
            "file #42:  bad zipfile offset (lseek):  163266560\n",
            "file #43:  bad zipfile offset (lseek):  174727168\n",
            "file #44:  bad zipfile offset (lseek):  174735360\n",
            "file #45:  bad zipfile offset (lseek):  183623680\n",
            "file #46:  bad zipfile offset (lseek):  183631872\n",
            "file #47:  bad zipfile offset (lseek):  195379200\n",
            "file #48:  bad zipfile offset (lseek):  195387392\n",
            "file #49:  bad zipfile offset (lseek):  207011840\n",
            "file #50:  bad zipfile offset (lseek):  207028224\n",
            "file #51:  bad zipfile offset (lseek):  227540992\n",
            "file #52:  bad zipfile offset (lseek):  227549184\n",
            "file #53:  bad zipfile offset (lseek):  238870528\n",
            "file #54:  bad zipfile offset (lseek):  238878720\n",
            "file #55:  bad zipfile offset (lseek):  254197760\n",
            "file #56:  bad zipfile offset (lseek):  254205952\n",
            "file #57:  bad zipfile offset (lseek):  267321344\n",
            "file #58:  bad zipfile offset (lseek):  267329536\n",
            "file #59:  bad zipfile offset (lseek):  283557888\n",
            "file #60:  bad zipfile offset (lseek):  283566080\n",
            "file #61:  bad zipfile offset (lseek):  298246144\n",
            "file #62:  bad zipfile offset (lseek):  298254336\n",
            "file #63:  bad zipfile offset (lseek):  311844864\n",
            "file #64:  bad zipfile offset (lseek):  311853056\n",
            "file #65:  bad zipfile offset (lseek):  319406080\n",
            "file #66:  bad zipfile offset (lseek):  319414272\n",
            "file #67:  bad zipfile offset (lseek):  328712192\n",
            "file #68:  bad zipfile offset (lseek):  328720384\n",
            "file #69:  bad zipfile offset (lseek):  337723392\n",
            "file #70:  bad zipfile offset (lseek):  337739776\n",
            "file #71:  bad zipfile offset (lseek):  363732992\n",
            "file #72:  bad zipfile offset (lseek):  363741184\n",
            "file #73:  bad zipfile offset (lseek):  379052032\n",
            "file #74:  bad zipfile offset (lseek):  379060224\n",
            "file #75:  bad zipfile offset (lseek):  389251072\n",
            "file #76:  bad zipfile offset (lseek):  389259264\n",
            "file #77:  bad zipfile offset (lseek):  406462464\n",
            "file #78:  bad zipfile offset (lseek):  406470656\n",
            "file #79:  bad zipfile offset (lseek):  421822464\n",
            "file #80:  bad zipfile offset (lseek):  421830656\n",
            "file #81:  bad zipfile offset (lseek):  434479104\n",
            "file #82:  bad zipfile offset (lseek):  434487296\n",
            "file #83:  bad zipfile offset (lseek):  452091904\n",
            "file #84:  bad zipfile offset (lseek):  452100096\n",
            "file #85:  bad zipfile offset (lseek):  462757888\n",
            "file #86:  bad zipfile offset (lseek):  462766080\n",
            "file #87:  bad zipfile offset (lseek):  472834048\n",
            "file #88:  bad zipfile offset (lseek):  472842240\n",
            "file #89:  bad zipfile offset (lseek):  491470848\n",
            "file #90:  bad zipfile offset (lseek):  491479040\n",
            "file #91:  bad zipfile offset (lseek):  505905152\n",
            "file #92:  bad zipfile offset (lseek):  505913344\n",
            "file #93:  bad zipfile offset (lseek):  519405568\n",
            "file #94:  bad zipfile offset (lseek):  519413760\n",
            "file #95:  bad zipfile offset (lseek):  531800064\n",
            "file #96:  bad zipfile offset (lseek):  531808256\n",
            "file #97:  bad zipfile offset (lseek):  551010304\n",
            "file #98:  bad zipfile offset (lseek):  551018496\n",
            "file #99:  bad zipfile offset (lseek):  566239232\n",
            "file #100:  bad zipfile offset (lseek):  566247424\n",
            "file #101:  bad zipfile offset (lseek):  595034112\n",
            "file #102:  bad zipfile offset (lseek):  595050496\n",
            "file #103:  bad zipfile offset (lseek):  607805440\n",
            "file #104:  bad zipfile offset (lseek):  607813632\n",
            "file #105:  bad zipfile offset (lseek):  628072448\n",
            "file #106:  bad zipfile offset (lseek):  628080640\n",
            "file #107:  bad zipfile offset (lseek):  639393792\n",
            "file #108:  bad zipfile offset (lseek):  639401984\n",
            "file #109:  bad zipfile offset (lseek):  654475264\n",
            "file #110:  bad zipfile offset (lseek):  654491648\n",
            "file #111:  bad zipfile offset (lseek):  682041344\n",
            "file #112:  bad zipfile offset (lseek):  682049536\n",
            "file #113:  bad zipfile offset (lseek):  694444032\n",
            "file #114:  bad zipfile offset (lseek):  694452224\n",
            "file #115:  bad zipfile offset (lseek):  702767104\n",
            "file #116:  bad zipfile offset (lseek):  702775296\n",
            "file #117:  bad zipfile offset (lseek):  716185600\n",
            "file #118:  bad zipfile offset (lseek):  716193792\n",
            "file #119:  bad zipfile offset (lseek):  731029504\n",
            "file #120:  bad zipfile offset (lseek):  731045888\n",
            "file #121:  bad zipfile offset (local header sig):  9315405\n",
            "file #122:  bad zipfile offset (local header sig):  9325969\n",
            "file #123:  bad zipfile offset (local header sig):  16639876\n",
            "file #124:  bad zipfile offset (local header sig):  16650140\n",
            "file #125:  bad zipfile offset (local header sig):  28452469\n",
            "file #126:  bad zipfile offset (local header sig):  28463453\n",
            "file #127:  bad zipfile offset (local header sig):  41951184\n",
            "file #128:  bad zipfile offset (local header sig):  41962159\n",
            "file #129:  bad zipfile offset (local header sig):  53839777\n",
            "file #130:  bad zipfile offset (local header sig):  53850331\n",
            "file #131:  bad zipfile offset (local header sig):  66074734\n",
            "file #132:  bad zipfile offset (local header sig):  66084116\n",
            "file #133:  bad zipfile offset (local header sig):  77083398\n",
            "file #134:  bad zipfile offset (local header sig):  77094988\n",
            "file #135:  bad zipfile offset (local header sig):  88662908\n",
            "file #136:  bad zipfile offset (local header sig):  88674213\n",
            "file #137:  bad zipfile offset (lseek):  112902144\n",
            "file #138:  bad zipfile offset (lseek):  112910336\n",
            "file #139:  bad zipfile offset (lseek):  126861312\n",
            "file #140:  bad zipfile offset (lseek):  126869504\n",
            "file #141:  bad zipfile offset (lseek):  138330112\n",
            "file #142:  bad zipfile offset (lseek):  138338304\n",
            "file #143:  bad zipfile offset (lseek):  152133632\n",
            "file #144:  bad zipfile offset (lseek):  152141824\n",
            "file #145:  bad zipfile offset (lseek):  158908416\n",
            "file #146:  bad zipfile offset (lseek):  158924800\n",
            "file #147:  bad zipfile offset (lseek):  170475520\n",
            "file #148:  bad zipfile offset (lseek):  170483712\n",
            "file #149:  bad zipfile offset (lseek):  181452800\n",
            "file #150:  bad zipfile offset (lseek):  181469184\n",
            "file #151:  bad zipfile offset (lseek):  194928640\n",
            "file #152:  bad zipfile offset (lseek):  194945024\n",
            "file #153:  bad zipfile offset (lseek):  210763776\n",
            "file #154:  bad zipfile offset (lseek):  210771968\n",
            "file #155:  bad zipfile offset (lseek):  222167040\n",
            "file #156:  bad zipfile offset (lseek):  222183424\n",
            "file #157:  bad zipfile offset (lseek):  236126208\n",
            "file #158:  bad zipfile offset (lseek):  236134400\n",
            "file #159:  bad zipfile offset (lseek):  246374400\n",
            "file #160:  bad zipfile offset (lseek):  246390784\n",
            "file #161:  bad zipfile offset (lseek):  254566400\n",
            "file #162:  bad zipfile offset (lseek):  254574592\n",
            "file #163:  bad zipfile offset (lseek):  265543680\n",
            "file #164:  bad zipfile offset (lseek):  265551872\n",
            "file #165:  bad zipfile offset (lseek):  277782528\n",
            "file #166:  bad zipfile offset (lseek):  277790720\n",
            "file #167:  bad zipfile offset (lseek):  290185216\n",
            "file #168:  bad zipfile offset (lseek):  290193408\n",
            "file #169:  bad zipfile offset (lseek):  301129728\n",
            "file #170:  bad zipfile offset (lseek):  301137920\n",
            "file #171:  bad zipfile offset (lseek):  315973632\n",
            "file #172:  bad zipfile offset (lseek):  315981824\n",
            "file #173:  bad zipfile offset (lseek):  328318976\n",
            "file #174:  bad zipfile offset (lseek):  328327168\n",
            "file #175:  bad zipfile offset (lseek):  340852736\n",
            "file #176:  bad zipfile offset (lseek):  340860928\n",
            "file #177:  bad zipfile offset (lseek):  353533952\n",
            "file #178:  bad zipfile offset (lseek):  353542144\n",
            "file #179:  bad zipfile offset (lseek):  366854144\n",
            "file #180:  bad zipfile offset (lseek):  366870528\n",
            "file #181:  bad zipfile offset (lseek):  380403712\n",
            "file #182:  bad zipfile offset (lseek):  380420096\n",
            "file #183:  bad zipfile offset (lseek):  398262272\n",
            "file #184:  bad zipfile offset (lseek):  398270464\n",
            "file #185:  bad zipfile offset (lseek):  409993216\n",
            "file #186:  bad zipfile offset (lseek):  410001408\n",
            "file #187:  bad zipfile offset (lseek):  421060608\n",
            "file #188:  bad zipfile offset (lseek):  421076992\n",
            "file #189:  bad zipfile offset (lseek):  433250304\n",
            "file #190:  bad zipfile offset (lseek):  433258496\n",
            "file #191:  bad zipfile offset (lseek):  440492032\n",
            "file #192:  bad zipfile offset (lseek):  440500224\n",
            "file #193:  bad zipfile offset (lseek):  453230592\n",
            "file #194:  bad zipfile offset (lseek):  453246976\n",
            "file #195:  bad zipfile offset (lseek):  471482368\n",
            "file #196:  bad zipfile offset (lseek):  471498752\n",
            "file #197:  bad zipfile offset (lseek):  483516416\n",
            "file #198:  bad zipfile offset (lseek):  483532800\n",
            "file #199:  bad zipfile offset (lseek):  493019136\n",
            "file #200:  bad zipfile offset (lseek):  493035520\n",
            "file #201:  bad zipfile offset (lseek):  503545856\n",
            "file #202:  bad zipfile offset (lseek):  503554048\n",
            "file #203:  bad zipfile offset (lseek):  527564800\n",
            "file #204:  bad zipfile offset (lseek):  527572992\n",
            "file #205:  bad zipfile offset (lseek):  538976256\n",
            "file #206:  bad zipfile offset (lseek):  538984448\n",
            "file #207:  bad zipfile offset (lseek):  562561024\n",
            "file #208:  bad zipfile offset (lseek):  562569216\n",
            "file #209:  bad zipfile offset (lseek):  577683456\n",
            "file #210:  bad zipfile offset (lseek):  577691648\n",
            "file #211:  bad zipfile offset (lseek):  585564160\n",
            "file #212:  bad zipfile offset (lseek):  585572352\n",
            "file #213:  bad zipfile offset (lseek):  599195648\n",
            "file #214:  bad zipfile offset (lseek):  599203840\n",
            "file #215:  bad zipfile offset (lseek):  614137856\n",
            "file #216:  bad zipfile offset (lseek):  614146048\n",
            "file #217:  bad zipfile offset (lseek):  622977024\n",
            "file #218:  bad zipfile offset (lseek):  622985216\n",
            "file #219:  bad zipfile offset (local header sig):  622986627\n",
            "file #220:  bad zipfile offset (lseek):  635699200\n",
            "file #221:  bad zipfile offset (lseek):  635707392\n",
            "file #222:  bad zipfile offset (lseek):  649674752\n",
            "file #223:  bad zipfile offset (lseek):  649682944\n",
            "file #224:  bad zipfile offset (lseek):  662765568\n",
            "file #225:  bad zipfile offset (lseek):  662773760\n",
            "file #226:  bad zipfile offset (lseek):  672907264\n",
            "file #227:  bad zipfile offset (lseek):  672915456\n",
            "file #228:  bad zipfile offset (lseek):  681148416\n",
            "file #229:  bad zipfile offset (lseek):  681156608\n",
            "file #230:  bad zipfile offset (lseek):  689496064\n",
            "file #231:  bad zipfile offset (lseek):  689504256\n",
            "file #232:  bad zipfile offset (lseek):  698818560\n",
            "file #233:  bad zipfile offset (lseek):  698826752\n",
            "file #234:  bad zipfile offset (lseek):  707403776\n",
            "file #235:  bad zipfile offset (lseek):  707420160\n",
            "file #236:  bad zipfile offset (lseek):  716619776\n",
            "file #237:  bad zipfile offset (lseek):  716636160\n",
            "file #238:  bad zipfile offset (lseek):  726712320\n",
            "file #239:  bad zipfile offset (lseek):  726728704\n",
            "file #240:  bad zipfile offset (local header sig):  5317795\n",
            "file #241:  bad zipfile offset (local header sig):  5332174\n",
            "file #242:  bad zipfile offset (local header sig):  15330430\n",
            "file #243:  bad zipfile offset (local header sig):  15344664\n",
            "file #244:  bad zipfile offset (local header sig):  24918029\n",
            "file #245:  bad zipfile offset (local header sig):  24930747\n",
            "file #246:  bad zipfile offset (local header sig):  32507481\n",
            "file #247:  bad zipfile offset (local header sig):  32519407\n",
            "file #248:  bad zipfile offset (local header sig):  41819660\n",
            "file #249:  bad zipfile offset (local header sig):  41831788\n",
            "file #250:  bad zipfile offset (local header sig):  57490702\n",
            "file #251:  bad zipfile offset (local header sig):  57502156\n",
            "file #252:  bad zipfile offset (local header sig):  67377673\n",
            "file #253:  bad zipfile offset (local header sig):  67389190\n",
            "file #254:  bad zipfile offset (local header sig):  76782161\n",
            "file #255:  bad zipfile offset (local header sig):  76791218\n",
            "file #256:  bad zipfile offset (local header sig):  87024439\n",
            "file #257:  bad zipfile offset (local header sig):  87037080\n",
            "file #258:  bad zipfile offset (local header sig):  97781613\n",
            "file #259:  bad zipfile offset (local header sig):  97793666\n",
            "file #260:  bad zipfile offset (local header sig):  107081700\n",
            "file #261:  bad zipfile offset (local header sig):  107095410\n",
            "file #262:  bad zipfile offset (local header sig):  107095469\n",
            "file #263:  bad zipfile offset (lseek):  125370368\n",
            "file #264:  bad zipfile offset (lseek):  125378560\n",
            "file #265:  bad zipfile offset (lseek):  133791744\n",
            "file #266:  bad zipfile offset (lseek):  133808128\n",
            "file #267:  bad zipfile offset (lseek):  142942208\n",
            "file #268:  bad zipfile offset (lseek):  142950400\n",
            "file #269:  bad zipfile offset (lseek):  152838144\n",
            "file #270:  bad zipfile offset (lseek):  152846336\n",
            "file #271:  bad zipfile offset (lseek):  166723584\n",
            "file #272:  bad zipfile offset (lseek):  166731776\n",
            "file #273:  bad zipfile offset (lseek):  183918592\n",
            "file #274:  bad zipfile offset (lseek):  183926784\n",
            "file #275:  bad zipfile offset (lseek):  198787072\n",
            "file #276:  bad zipfile offset (lseek):  198795264\n",
            "file #277:  bad zipfile offset (lseek):  209551360\n",
            "file #278:  bad zipfile offset (lseek):  209559552\n",
            "file #279:  bad zipfile offset (lseek):  223035392\n",
            "file #280:  bad zipfile offset (lseek):  223051776\n",
            "file #281:  bad zipfile offset (lseek):  240803840\n",
            "file #282:  bad zipfile offset (lseek):  240812032\n",
            "file #283:  bad zipfile offset (lseek):  256999424\n",
            "file #284:  bad zipfile offset (lseek):  257007616\n",
            "file #285:  bad zipfile offset (lseek):  266887168\n",
            "file #286:  bad zipfile offset (lseek):  266895360\n",
            "file #287:  bad zipfile offset (lseek):  282140672\n",
            "file #288:  bad zipfile offset (lseek):  282148864\n",
            "file #289:  bad zipfile offset (lseek):  298999808\n",
            "file #290:  bad zipfile offset (lseek):  299008000\n",
            "file #291:  bad zipfile offset (lseek):  314621952\n",
            "file #292:  bad zipfile offset (lseek):  314630144\n",
            "file #293:  bad zipfile offset (lseek):  328204288\n",
            "file #294:  bad zipfile offset (lseek):  328212480\n",
            "file #295:  bad zipfile offset (lseek):  338616320\n",
            "file #296:  bad zipfile offset (lseek):  338624512\n",
            "file #297:  bad zipfile offset (lseek):  348528640\n",
            "file #298:  bad zipfile offset (lseek):  348536832\n",
            "file #299:  bad zipfile offset (lseek):  359104512\n",
            "file #300:  bad zipfile offset (lseek):  359112704\n",
            "file #301:  bad zipfile offset (lseek):  381067264\n",
            "file #302:  bad zipfile offset (lseek):  381083648\n",
            "file #303:  bad zipfile offset (lseek):  398352384\n",
            "file #304:  bad zipfile offset (lseek):  398360576\n",
            "file #305:  bad zipfile offset (lseek):  414810112\n",
            "file #306:  bad zipfile offset (lseek):  414826496\n",
            "file #307:  bad zipfile offset (lseek):  426696704\n",
            "file #308:  bad zipfile offset (lseek):  426704896\n",
            "file #309:  bad zipfile offset (lseek):  442007552\n",
            "file #310:  bad zipfile offset (lseek):  442015744\n",
            "file #311:  bad zipfile offset (lseek):  454762496\n",
            "file #312:  bad zipfile offset (lseek):  454778880\n",
            "file #313:  bad zipfile offset (lseek):  468434944\n",
            "file #314:  bad zipfile offset (lseek):  468443136\n",
            "file #315:  bad zipfile offset (lseek):  485613568\n",
            "file #316:  bad zipfile offset (lseek):  485621760\n",
            "file #317:  bad zipfile offset (lseek):  496623616\n",
            "file #318:  bad zipfile offset (lseek):  496631808\n",
            "file #319:  bad zipfile offset (lseek):  507109376\n",
            "file #320:  bad zipfile offset (lseek):  507117568\n",
            "file #321:  bad zipfile offset (EOF):  507121517\n",
            "file #322:  bad zipfile offset (lseek):  511303680\n",
            "file #323:  bad zipfile offset (lseek):  511311872\n",
            "file #324:  bad zipfile offset (lseek):  517513216\n",
            "file #325:  bad zipfile offset (lseek):  517521408\n",
            "file #326:  bad zipfile offset (lseek):  523206656\n",
            "file #327:  bad zipfile offset (lseek):  523214848\n",
            "file #328:  bad zipfile offset (lseek):  529121280\n",
            "file #329:  bad zipfile offset (lseek):  529129472\n",
            "file #330:  bad zipfile offset (lseek):  534372352\n",
            "file #331:  bad zipfile offset (lseek):  534380544\n",
            "file #332:  bad zipfile offset (lseek):  539279360\n",
            "file #333:  bad zipfile offset (lseek):  539287552\n",
            "file #334:  bad zipfile offset (lseek):  545005568\n",
            "file #335:  bad zipfile offset (lseek):  545021952\n",
            "file #336:  bad zipfile offset (lseek):  551755776\n",
            "file #337:  bad zipfile offset (lseek):  551763968\n",
            "file #338:  bad zipfile offset (lseek):  557522944\n",
            "file #339:  bad zipfile offset (lseek):  557531136\n",
            "file #340:  bad zipfile offset (lseek):  562003968\n",
            "file #341:  bad zipfile offset (lseek):  562012160\n",
            "file #342:  bad zipfile offset (lseek):  569155584\n",
            "file #343:  bad zipfile offset (lseek):  569163776\n",
            "file #344:  bad zipfile offset (lseek):  576233472\n",
            "file #345:  bad zipfile offset (lseek):  576241664\n",
            "file #346:  bad zipfile offset (lseek):  584597504\n",
            "file #347:  bad zipfile offset (lseek):  584605696\n",
            "file #348:  bad zipfile offset (lseek):  592756736\n",
            "file #349:  bad zipfile offset (lseek):  592764928\n",
            "file #350:  bad zipfile offset (lseek):  597925888\n",
            "file #351:  bad zipfile offset (lseek):  597934080\n",
            "file #352:  bad zipfile offset (lseek):  606699520\n",
            "file #353:  bad zipfile offset (lseek):  606707712\n",
            "file #354:  bad zipfile offset (lseek):  611074048\n",
            "file #355:  bad zipfile offset (lseek):  611082240\n",
            "file #356:  bad zipfile offset (lseek):  618405888\n",
            "file #357:  bad zipfile offset (lseek):  618414080\n",
            "file #358:  bad zipfile offset (lseek):  623181824\n",
            "file #359:  bad zipfile offset (lseek):  623190016\n",
            "file #360:  bad zipfile offset (lseek):  629628928\n",
            "file #361:  bad zipfile offset (lseek):  629637120\n",
            "file #362:  bad zipfile offset (lseek):  644661248\n",
            "file #363:  bad zipfile offset (lseek):  644669440\n",
            "file #364:  bad zipfile offset (lseek):  653107200\n",
            "file #365:  bad zipfile offset (lseek):  653115392\n",
            "file #366:  bad zipfile offset (lseek):  659382272\n",
            "file #367:  bad zipfile offset (lseek):  659398656\n",
            "file #368:  bad zipfile offset (lseek):  667885568\n",
            "file #369:  bad zipfile offset (lseek):  667901952\n",
            "file #370:  bad zipfile offset (lseek):  672530432\n",
            "file #371:  bad zipfile offset (lseek):  672538624\n",
            "file #372:  bad zipfile offset (lseek):  679796736\n",
            "file #373:  bad zipfile offset (lseek):  679804928\n",
            "file #374:  bad zipfile offset (lseek):  686661632\n",
            "file #375:  bad zipfile offset (lseek):  686669824\n",
            "file #376:  bad zipfile offset (lseek):  695394304\n",
            "file #377:  bad zipfile offset (lseek):  695402496\n",
            "file #378:  bad zipfile offset (lseek):  701128704\n",
            "file #379:  bad zipfile offset (lseek):  701145088\n",
            "file #380:  bad zipfile offset (lseek):  706707456\n",
            "file #381:  bad zipfile offset (lseek):  706715648\n",
            "file #382:  bad zipfile offset (lseek):  713809920\n",
            "file #383:  bad zipfile offset (lseek):  713826304\n",
            "file #384:  bad zipfile offset (lseek):  719650816\n",
            "file #385:  bad zipfile offset (lseek):  719659008\n",
            "file #386:  bad zipfile offset (lseek):  726302720\n",
            "file #387:  bad zipfile offset (lseek):  726310912\n",
            "file #388:  bad zipfile offset (lseek):  733995008\n",
            "file #389:  bad zipfile offset (local header sig):  2567\n",
            "file #390:  bad zipfile offset (local header sig):  6275867\n",
            "file #391:  bad zipfile offset (local header sig):  6283143\n",
            "file #392:  bad zipfile offset (local header sig):  15752904\n",
            "file #393:  bad zipfile offset (local header sig):  15761484\n",
            "file #394:  bad zipfile offset (local header sig):  20985312\n",
            "file #395:  bad zipfile offset (local header sig):  20993018\n",
            "file #396:  bad zipfile offset (local header sig):  26592379\n",
            "file #397:  bad zipfile offset (local header sig):  26600156\n",
            "file #398:  bad zipfile offset (local header sig):  35512370\n",
            "file #399:  bad zipfile offset (local header sig):  35521410\n",
            "file #400:  bad zipfile offset (local header sig):  40173934\n",
            "file #401:  bad zipfile offset (local header sig):  40182815\n",
            "file #402:  bad zipfile offset (local header sig):  45058997\n",
            "file #403:  bad zipfile offset (local header sig):  45068229\n",
            "file #404:  bad zipfile offset (local header sig):  52014930\n",
            "file #405:  bad zipfile offset (local header sig):  52024334\n",
            "file #406:  bad zipfile offset (local header sig):  58253743\n",
            "file #407:  bad zipfile offset (local header sig):  58262254\n",
            "file #408:  bad zipfile offset (local header sig):  63931193\n",
            "file #409:  bad zipfile offset (local header sig):  63940877\n",
            "file #410:  bad zipfile offset (local header sig):  71365004\n",
            "file #411:  bad zipfile offset (local header sig):  71373996\n",
            "file #412:  bad zipfile offset (local header sig):  76675288\n",
            "file #413:  bad zipfile offset (local header sig):  76685813\n",
            "file #414:  bad zipfile offset (local header sig):  84814314\n",
            "file #415:  bad zipfile offset (local header sig):  84823003\n",
            "file #416:  bad zipfile offset (local header sig):  91570300\n",
            "file #417:  bad zipfile offset (local header sig):  91579512\n",
            "file #418:  bad zipfile offset (local header sig):  95167294\n",
            "file #419:  bad zipfile offset (local header sig):  95176261\n",
            "file #420:  bad zipfile offset (local header sig):  100099858\n",
            "file #421:  bad zipfile offset (local header sig):  100100244\n",
            "file #422:  bad zipfile offset (local header sig):  105143257\n",
            "file #423:  bad zipfile offset (local header sig):  105151791\n",
            "file #424:  bad zipfile offset (local header sig):  111238413\n",
            "file #425:  bad zipfile offset (local header sig):  111248166\n",
            "file #426:  bad zipfile offset (lseek):  116375552\n",
            "file #427:  bad zipfile offset (lseek):  116383744\n",
            "file #428:  bad zipfile offset (lseek):  120356864\n",
            "file #429:  bad zipfile offset (lseek):  120365056\n",
            "file #430:  bad zipfile offset (lseek):  127451136\n",
            "file #431:  bad zipfile offset (lseek):  127459328\n",
            "file #432:  bad zipfile offset (lseek):  131129344\n",
            "file #433:  bad zipfile offset (lseek):  131137536\n",
            "file #434:  bad zipfile offset (lseek):  135274496\n",
            "file #435:  bad zipfile offset (lseek):  135282688\n",
            "file #436:  bad zipfile offset (lseek):  140566528\n",
            "file #437:  bad zipfile offset (lseek):  140574720\n",
            "file #438:  bad zipfile offset (lseek):  144916480\n",
            "file #439:  bad zipfile offset (EOF):  144924237\n",
            "file #440:  bad zipfile offset (lseek):  151937024\n",
            "file #441:  bad zipfile offset (lseek):  151945216\n",
            "file #442:  bad zipfile offset (lseek):  159621120\n",
            "file #443:  bad zipfile offset (lseek):  159629312\n",
            "file #444:  bad zipfile offset (lseek):  166273024\n",
            "file #445:  bad zipfile offset (lseek):  166281216\n",
            "file #446:  bad zipfile offset (lseek):  171229184\n",
            "file #447:  bad zipfile offset (lseek):  171237376\n",
            "file #448:  bad zipfile offset (lseek):  175742976\n",
            "file #449:  bad zipfile offset (lseek):  175751168\n",
            "file #450:  bad zipfile offset (lseek):  182845440\n",
            "file #451:  bad zipfile offset (lseek):  182853632\n",
            "file #452:  bad zipfile offset (lseek):  188162048\n",
            "file #453:  bad zipfile offset (lseek):  188178432\n",
            "file #454:  bad zipfile offset (lseek):  193413120\n",
            "file #455:  bad zipfile offset (lseek):  193421312\n",
            "file #456:  bad zipfile offset (lseek):  200810496\n",
            "file #457:  bad zipfile offset (lseek):  200818688\n",
            "file #458:  bad zipfile offset (lseek):  210370560\n",
            "file #459:  bad zipfile offset (lseek):  210378752\n",
            "file #460:  bad zipfile offset (lseek):  220053504\n",
            "file #461:  bad zipfile offset (lseek):  220061696\n",
            "file #462:  bad zipfile offset (lseek):  224223232\n",
            "file #463:  bad zipfile offset (lseek):  224231424\n",
            "file #464:  bad zipfile offset (lseek):  229310464\n",
            "file #465:  bad zipfile offset (lseek):  229318656\n",
            "file #466:  bad zipfile offset (lseek):  236109824\n",
            "file #467:  bad zipfile offset (lseek):  236118016\n",
            "file #468:  bad zipfile offset (lseek):  242016256\n",
            "file #469:  bad zipfile offset (lseek):  242024448\n",
            "file #470:  bad zipfile offset (lseek):  249724928\n",
            "file #471:  bad zipfile offset (lseek):  249733120\n",
            "file #472:  bad zipfile offset (lseek):  254967808\n",
            "file #473:  bad zipfile offset (lseek):  254976000\n",
            "file #474:  bad zipfile offset (lseek):  262324224\n",
            "file #475:  bad zipfile offset (lseek):  262332416\n",
            "file #476:  bad zipfile offset (lseek):  269467648\n",
            "file #477:  bad zipfile offset (lseek):  269475840\n",
            "file #478:  bad zipfile offset (lseek):  274980864\n",
            "file #479:  bad zipfile offset (lseek):  274989056\n",
            "file #480:  bad zipfile offset (lseek):  279404544\n",
            "file #481:  bad zipfile offset (lseek):  279412736\n",
            "file #482:  bad zipfile offset (lseek):  286777344\n",
            "file #483:  bad zipfile offset (lseek):  286785536\n",
            "file #484:  bad zipfile offset (lseek):  292298752\n",
            "file #485:  bad zipfile offset (lseek):  292306944\n",
            "file #486:  bad zipfile offset (lseek):  299671552\n",
            "file #487:  bad zipfile offset (lseek):  299679744\n",
            "file #488:  bad zipfile offset (lseek):  305602560\n",
            "file #489:  bad zipfile offset (lseek):  305610752\n",
            "file #490:  bad zipfile offset (lseek):  313442304\n",
            "file #491:  bad zipfile offset (lseek):  313450496\n",
            "file #492:  bad zipfile offset (local header sig):  313454086\n",
            "file #493:  bad zipfile offset (lseek):  321003520\n",
            "file #494:  bad zipfile offset (lseek):  321011712\n",
            "file #495:  bad zipfile offset (lseek):  339615744\n",
            "file #496:  bad zipfile offset (lseek):  339623936\n",
            "file #497:  bad zipfile offset (lseek):  359284736\n",
            "file #498:  bad zipfile offset (lseek):  359301120\n",
            "file #499:  bad zipfile offset (lseek):  370786304\n",
            "file #500:  bad zipfile offset (lseek):  370802688\n",
            "file #501:  bad zipfile offset (lseek):  387260416\n",
            "file #502:  bad zipfile offset (lseek):  387276800\n",
            "file #503:  bad zipfile offset (lseek):  396075008\n",
            "file #504:  bad zipfile offset (lseek):  396091392\n",
            "file #505:  bad zipfile offset (lseek):  412491776\n",
            "file #506:  bad zipfile offset (lseek):  412499968\n",
            "file #507:  bad zipfile offset (lseek):  431202304\n",
            "file #508:  bad zipfile offset (lseek):  431218688\n",
            "file #509:  bad zipfile offset (lseek):  438878208\n",
            "file #510:  bad zipfile offset (lseek):  438886400\n",
            "file #511:  bad zipfile offset (lseek):  471965696\n",
            "file #512:  bad zipfile offset (lseek):  471990272\n",
            "file #513:  bad zipfile offset (lseek):  484999168\n",
            "file #514:  bad zipfile offset (lseek):  485007360\n",
            "file #515:  bad zipfile offset (lseek):  506953728\n",
            "file #516:  bad zipfile offset (lseek):  506970112\n",
            "file #517:  bad zipfile offset (lseek):  519118848\n",
            "file #518:  bad zipfile offset (lseek):  519127040\n",
            "file #519:  bad zipfile offset (lseek):  535388160\n",
            "file #520:  bad zipfile offset (lseek):  535404544\n",
            "file #521:  bad zipfile offset (lseek):  551813120\n",
            "file #522:  bad zipfile offset (lseek):  551829504\n",
            "file #523:  bad zipfile offset (lseek):  562520064\n",
            "file #524:  bad zipfile offset (lseek):  562528256\n",
            "file #525:  bad zipfile offset (lseek):  576618496\n",
            "file #526:  bad zipfile offset (lseek):  576626688\n",
            "file #527:  bad zipfile offset (lseek):  588832768\n",
            "file #528:  bad zipfile offset (lseek):  588849152\n",
            "file #529:  bad zipfile offset (lseek):  607789056\n",
            "file #530:  bad zipfile offset (lseek):  607797248\n",
            "file #531:  bad zipfile offset (lseek):  619978752\n",
            "file #532:  bad zipfile offset (lseek):  619995136\n",
            "file #533:  bad zipfile offset (lseek):  634593280\n",
            "file #534:  bad zipfile offset (lseek):  634609664\n",
            "file #535:  bad zipfile offset (lseek):  650649600\n",
            "file #536:  bad zipfile offset (lseek):  650665984\n",
            "file #537:  bad zipfile offset (lseek):  666116096\n",
            "file #538:  bad zipfile offset (lseek):  666124288\n",
            "file #539:  bad zipfile offset (lseek):  675667968\n",
            "file #540:  bad zipfile offset (lseek):  675684352\n",
            "file #541:  bad zipfile offset (lseek):  689487872\n",
            "file #542:  bad zipfile offset (lseek):  689496064\n",
            "file #543:  bad zipfile offset (lseek):  701194240\n",
            "file #544:  bad zipfile offset (lseek):  701202432\n",
            "file #545:  bad zipfile offset (lseek):  707346432\n",
            "file #546:  bad zipfile offset (lseek):  707354624\n",
            "file #547:  bad zipfile offset (lseek):  726794240\n",
            "file #548:  bad zipfile offset (lseek):  726802432\n",
            "file #549:  bad zipfile offset (local header sig):  12179855\n",
            "file #550:  bad zipfile offset (local header sig):  12190585\n",
            "file #551:  bad zipfile offset (local header sig):  32296022\n",
            "file #552:  bad zipfile offset (local header sig):  32312644\n",
            "file #553:  bad zipfile offset (local header sig):  43966762\n",
            "file #554:  bad zipfile offset (local header sig):  43982272\n",
            "file #555:  bad zipfile offset (local header sig):  59559361\n",
            "file #556:  bad zipfile offset (local header sig):  59572195\n",
            "file #557:  bad zipfile offset (local header sig):  75191415\n",
            "file #558:  bad zipfile offset (local header sig):  75203578\n",
            "file #559:  bad zipfile offset (local header sig):  95454267\n",
            "file #560:  bad zipfile offset (local header sig):  95466983\n",
            "file #561:  bad zipfile offset (local header sig):  107153149\n",
            "file #562:  bad zipfile offset (local header sig):  107166875\n",
            "file #563:  bad zipfile offset (lseek):  126558208\n",
            "file #564:  bad zipfile offset (lseek):  126566400\n",
            "file #565:  bad zipfile offset (lseek):  139788288\n",
            "file #566:  bad zipfile offset (lseek):  139796480\n",
            "file #567:  bad zipfile offset (lseek):  152805376\n",
            "file #568:  bad zipfile offset (lseek):  152821760\n",
            "file #569:  bad zipfile offset (lseek):  171433984\n",
            "file #570:  bad zipfile offset (lseek):  171442176\n",
            "file #571:  bad zipfile offset (lseek):  185876480\n",
            "file #572:  bad zipfile offset (lseek):  185892864\n",
            "file #573:  bad zipfile offset (lseek):  208838656\n",
            "file #574:  bad zipfile offset (lseek):  208846848\n",
            "file #575:  bad zipfile offset (lseek):  219267072\n",
            "file #576:  bad zipfile offset (lseek):  219275264\n",
            "file #577:  bad zipfile offset (lseek):  233758720\n",
            "file #578:  bad zipfile offset (lseek):  233775104\n",
            "file #579:  bad zipfile offset (lseek):  246480896\n",
            "file #580:  bad zipfile offset (lseek):  246497280\n",
            "file #581:  bad zipfile offset (lseek):  260177920\n",
            "file #582:  bad zipfile offset (lseek):  260186112\n",
            "file #583:  bad zipfile offset (lseek):  280494080\n",
            "file #584:  bad zipfile offset (lseek):  280502272\n",
            "file #585:  bad zipfile offset (lseek):  295985152\n",
            "file #586:  bad zipfile offset (lseek):  295993344\n",
            "file #587:  bad zipfile offset (lseek):  317194240\n",
            "file #588:  bad zipfile offset (lseek):  317210624\n",
            "file #589:  bad zipfile offset (lseek):  324476928\n",
            "file #590:  bad zipfile offset (lseek):  324485120\n",
            "file #591:  bad zipfile offset (lseek):  334413824\n",
            "file #592:  bad zipfile offset (lseek):  334430208\n",
            "file #593:  bad zipfile offset (lseek):  346193920\n",
            "file #594:  bad zipfile offset (lseek):  346202112\n",
            "file #595:  bad zipfile offset (lseek):  372580352\n",
            "file #596:  bad zipfile offset (lseek):  372604928\n",
            "file #597:  bad zipfile offset (local header sig):  372605190\n",
            "file #598:  bad zipfile offset (lseek):  400515072\n",
            "file #599:  bad zipfile offset (lseek):  415678464\n",
            "file #600:  bad zipfile offset (lseek):  429391872\n",
            "file #601:  bad zipfile offset (lseek):  446971904\n",
            "file #602:  bad zipfile offset (lseek):  462970880\n",
            "file #603:  bad zipfile offset (lseek):  482418688\n",
            "file #604:  bad zipfile offset (lseek):  498483200\n",
            "file #605:  bad zipfile offset (lseek):  519413760\n",
            "file #606:  bad zipfile offset (lseek):  535478272\n",
            "file #607:  bad zipfile offset (lseek):  559734784\n",
            "file #608:  bad zipfile offset (lseek):  570368000\n",
            "file #609:  bad zipfile offset (lseek):  580263936\n",
            "file #610:  bad zipfile offset (lseek):  604495872\n",
            "file #611:  bad zipfile offset (lseek):  632496128\n",
            "file #612:  bad zipfile offset (lseek):  658857984\n",
            "file #613:  bad zipfile offset (lseek):  671735808\n",
            "file #614:  bad zipfile offset (lseek):  686202880\n",
            "file #615:  bad zipfile offset (lseek):  701177856\n",
            "file #616:  bad zipfile offset (lseek):  711262208\n",
            "file #617:  bad zipfile offset (lseek):  716595200\n",
            "file #618:  bad zipfile offset (lseek):  728604672\n",
            "file #619:  bad zipfile offset (local header sig):  11922378\n",
            "file #620:  bad zipfile offset (local header sig):  24064386\n",
            "file #621:  bad zipfile offset (local header sig):  41587273\n",
            "file #622:  bad zipfile offset (local header sig):  57382316\n",
            "file #623:  bad zipfile offset (local header sig):  68768270\n",
            "file #624:  bad zipfile offset (local header sig):  99925885\n",
            "file #625:  bad zipfile offset (lseek):  122175488\n",
            "file #626:  bad zipfile offset (lseek):  144351232\n",
            "file #627:  bad zipfile offset (lseek):  157163520\n",
            "file #628:  bad zipfile offset (lseek):  172638208\n",
            "file #629:  bad zipfile offset (lseek):  186515456\n",
            "file #630:  bad zipfile offset (lseek):  199761920\n",
            "file #631:  bad zipfile offset (lseek):  208986112\n",
            "file #632:  bad zipfile offset (lseek):  223731712\n",
            "file #633:  bad zipfile offset (lseek):  246063104\n",
            "file #634:  bad zipfile offset (lseek):  267198464\n",
            "file #635:  bad zipfile offset (lseek):  283156480\n",
            "file #636:  bad zipfile offset (lseek):  308912128\n",
            "file #637:  bad zipfile offset (lseek):  323411968\n",
            "file #638:  bad zipfile offset (lseek):  334938112\n",
            "file #639:  bad zipfile offset (lseek):  344719360\n",
            "file #640:  bad zipfile offset (lseek):  356548608\n",
            "file #641:  bad zipfile offset (lseek):  372744192\n",
            "file #642:  bad zipfile offset (lseek):  389767168\n",
            "file #643:  bad zipfile offset (lseek):  405209088\n",
            "file #644:  bad zipfile offset (lseek):  421978112\n",
            "file #645:  bad zipfile offset (lseek):  438296576\n",
            "file #646:  bad zipfile offset (lseek):  446570496\n",
            "file #647:  bad zipfile offset (lseek):  456900608\n",
            "file #648:  bad zipfile offset (lseek):  478838784\n",
            "file #649:  bad zipfile offset (lseek):  510238720\n",
            "file #650:  bad zipfile offset (lseek):  531398656\n",
            "file #651:  bad zipfile offset (lseek):  538148864\n",
            "file #652:  bad zipfile offset (lseek):  559915008\n",
            "file #653:  bad zipfile offset (lseek):  586104832\n",
            "file #654:  bad zipfile offset (lseek):  617267200\n",
            "file #655:  bad zipfile offset (lseek):  633602048\n",
            "file #656:  bad zipfile offset (lseek):  646701056\n",
            "file #657:  bad zipfile offset (lseek):  659619840\n",
            "file #658:  bad zipfile offset (lseek):  680468480\n",
            "file #659:  bad zipfile offset (lseek):  705937408\n",
            "file #660:  bad zipfile offset (lseek):  720953344\n",
            "  inflating: /kaggle/working/cardiacudc_new/cardiacUDC_dataset/Site_R_73/patient-93-4_image.nii.gz  \n",
            "  inflating: /kaggle/working/cardiacudc_new/cardiacUDC_dataset/Site_R_73/patient-95-4_image.nii.gz  \n",
            "  inflating: /kaggle/working/cardiacudc_new/cardiacUDC_dataset/Site_R_73/patient-96-4_image.nii.gz  \n",
            "  inflating: /kaggle/working/cardiacudc_new/cardiacUDC_dataset/Site_R_73/patient-97-4_image.nii.gz  \n",
            "  inflating: /kaggle/working/cardiacudc_new/cardiacUDC_dataset/Site_R_73/patient-98-4_image.nii.gz  \n",
            "  inflating: /kaggle/working/cardiacudc_new/cardiacUDC_dataset/Site_R_73/patient-99-4_image.nii.gz  \n"
          ]
        }
      ],
      "execution_count": 38
    },
    {
      "cell_type": "code",
      "source": [
        "import nibabel as nib\n",
        "\n",
        "# Load the NIfTI file\n",
        "img = nib.load('/kaggle/working/cardiacudc_new/cardiacUDC_dataset/Site_R_73/patient-93-4_image.nii.gz')\n",
        "\n",
        "# Get the image data (as a numpy array)\n",
        "data = img.get_fdata()\n",
        "\n",
        "# Check the shape and other information\n",
        "print(f\"Data shape: {data.shape}\")\n",
        "print(f\"Image header: {img.header}\")"
      ],
      "metadata": {
        "trusted": true,
        "execution": {
          "iopub.status.busy": "2025-08-30T19:36:00.028783Z",
          "iopub.execute_input": "2025-08-30T19:36:00.029159Z",
          "iopub.status.idle": "2025-08-30T19:36:01.828844Z",
          "shell.execute_reply.started": "2025-08-30T19:36:00.029114Z",
          "shell.execute_reply": "2025-08-30T19:36:01.828094Z"
        },
        "colab": {
          "base_uri": "https://localhost:8080/"
        },
        "id": "GwCSPudKe6r3",
        "outputId": "42f9642a-e7af-4a4b-8239-644663658d5a"
      },
      "outputs": [
        {
          "output_type": "stream",
          "name": "stdout",
          "text": [
            "Data shape: (800, 600, 174)\n",
            "Image header: <class 'nibabel.nifti1.Nifti1Header'> object, endian='<'\n",
            "sizeof_hdr      : 348\n",
            "data_type       : np.bytes_(b'')\n",
            "db_name         : np.bytes_(b'')\n",
            "extents         : 0\n",
            "session_error   : 0\n",
            "regular         : np.bytes_(b'r')\n",
            "dim_info        : 0\n",
            "dim             : [  3 800 600 174   1   1   1   1]\n",
            "intent_p1       : 0.0\n",
            "intent_p2       : 0.0\n",
            "intent_p3       : 0.0\n",
            "intent_code     : none\n",
            "datatype        : uint8\n",
            "bitpix          : 8\n",
            "slice_start     : 0\n",
            "pixdim          : [1. 1. 1. 1. 1. 1. 1. 1.]\n",
            "vox_offset      : 0.0\n",
            "scl_slope       : nan\n",
            "scl_inter       : nan\n",
            "slice_end       : 0\n",
            "slice_code      : unknown\n",
            "xyzt_units      : 0\n",
            "cal_max         : 0.0\n",
            "cal_min         : 0.0\n",
            "slice_duration  : 0.0\n",
            "toffset         : 0.0\n",
            "glmax           : 255\n",
            "glmin           : 0\n",
            "descrip         : np.bytes_(b'')\n",
            "aux_file        : np.bytes_(b'none')\n",
            "qform_code      : unknown\n",
            "sform_code      : scanner\n",
            "quatern_b       : 0.0\n",
            "quatern_c       : 0.0\n",
            "quatern_d       : 0.0\n",
            "qoffset_x       : 0.0\n",
            "qoffset_y       : 0.0\n",
            "qoffset_z       : 0.0\n",
            "srow_x          : [1. 0. 0. 1.]\n",
            "srow_y          : [0. 1. 0. 1.]\n",
            "srow_z          : [0. 0. 1. 1.]\n",
            "intent_name     : np.bytes_(b'')\n",
            "magic           : np.bytes_(b'n+1')\n"
          ]
        }
      ],
      "execution_count": 39
    },
    {
      "cell_type": "code",
      "source": [
        "import matplotlib.pyplot as plt\n",
        "\n",
        "# Select a slice from the 3D image\n",
        "slice_0 = data[:, :, 50]  # Modify the slice index as needed\n",
        "\n",
        "# Display the slice\n",
        "plt.imshow(slice_0, cmap='gray')\n",
        "plt.axis('off')\n",
        "plt.show()\n"
      ],
      "metadata": {
        "trusted": true,
        "execution": {
          "iopub.status.busy": "2025-08-30T19:36:01.829802Z",
          "iopub.execute_input": "2025-08-30T19:36:01.830739Z",
          "iopub.status.idle": "2025-08-30T19:36:02.074023Z",
          "shell.execute_reply.started": "2025-08-30T19:36:01.830717Z",
          "shell.execute_reply": "2025-08-30T19:36:02.073198Z"
        },
        "colab": {
          "base_uri": "https://localhost:8080/",
          "height": 406
        },
        "id": "woQo5VsAe6r3",
        "outputId": "55c7051f-72f6-4b92-9731-47f8d1254004"
      },
      "outputs": [
        {
          "output_type": "display_data",
          "data": {
            "text/plain": [
              "<Figure size 640x480 with 1 Axes>"
            ],
            "image/png": "[encoded data removed]"
          },
          "metadata": {}
        }
      ],
      "execution_count": 40
    },
    {
      "cell_type": "code",
      "source": [],
      "metadata": {
        "id": "AbBnbxWvh00f"
      },
      "execution_count": null,
      "outputs": []
    },
    {
      "cell_type": "markdown",
      "metadata": {
        "id": "94d380ee"
      },
      "source": [
        "# Task\n",
        "Convert all `.nii.gz` files in the extracted dataset directory to PNG slices."
      ]
    },
    {
      "cell_type": "markdown",
      "metadata": {
        "id": "e2a0e7dc"
      },
      "source": [
        "## Find nifti files\n",
        "\n",
        "### Subtask:\n",
        "Walk through the extracted dataset directory and identify all files with the `.nii.gz` extension.\n"
      ]
    },
    {
      "cell_type": "markdown",
      "metadata": {
        "id": "f206b9e6"
      },
      "source": [
        "**Reasoning**:\n",
        "Walk through the extracted dataset directory and identify all files with the `.nii.gz` extension and store their paths in a list.\n",
        "\n"
      ]
    },
    {
      "cell_type": "code",
      "metadata": {
        "colab": {
          "base_uri": "https://localhost:8080/"
        },
        "id": "5ed56035",
        "outputId": "df78f590-913c-4ff6-dd2f-3e6e1518f5e0"
      },
      "source": [
        "import os\n",
        "\n",
        "dataset_path = '/kaggle/working/cardiacudc_new/cardiacUDC_dataset'\n",
        "nii_gz_files = []\n",
        "\n",
        "for root, dirs, files in os.walk(dataset_path):\n",
        "    for file in files:\n",
        "        if file.endswith('.nii.gz'):\n",
        "            nii_gz_files.append(os.path.join(root, file))\n",
        "\n",
        "print(f\"Found {len(nii_gz_files)} .nii.gz files.\")"
      ],
      "execution_count": 42,
      "outputs": [
        {
          "output_type": "stream",
          "name": "stdout",
          "text": [
            "Found 6 .nii.gz files.\n"
          ]
        }
      ]
    },
    {
      "cell_type": "markdown",
      "metadata": {
        "id": "d619358c"
      },
      "source": [
        "## Create output directories\n",
        "\n",
        "### Subtask:\n",
        "For each NIfTI file, create a corresponding directory to store the output PNG slices.\n"
      ]
    },
    {
      "cell_type": "markdown",
      "metadata": {
        "id": "8c3c74a6"
      },
      "source": [
        "**Reasoning**:\n",
        "Iterate through the list of NIfTI files and create a corresponding output directory for each file.\n",
        "\n"
      ]
    },
    {
      "cell_type": "code",
      "metadata": {
        "colab": {
          "base_uri": "https://localhost:8080/"
        },
        "id": "4fa80e02",
        "outputId": "461661a9-df1c-4514-86cf-049389d605e3"
      },
      "source": [
        "import os\n",
        "\n",
        "output_base_dir = '/kaggle/working/png_slices'\n",
        "os.makedirs(output_base_dir, exist_ok=True)\n",
        "\n",
        "for nii_file_path in nii_gz_files:\n",
        "    # Construct the output directory path\n",
        "    file_name = os.path.basename(nii_file_path)\n",
        "    dir_name = os.path.splitext(file_name)[0] # Remove .gz and .nii extensions\n",
        "    output_dir = os.path.join(output_base_dir, dir_name)\n",
        "\n",
        "    # Create the output directory\n",
        "    os.makedirs(output_dir, exist_ok=True)\n",
        "    print(f\"Created output directory: {output_dir}\")"
      ],
      "execution_count": 43,
      "outputs": [
        {
          "output_type": "stream",
          "name": "stdout",
          "text": [
            "Created output directory: /kaggle/working/png_slices/patient-98-4_image.nii\n",
            "Created output directory: /kaggle/working/png_slices/patient-93-4_image.nii\n",
            "Created output directory: /kaggle/working/png_slices/patient-95-4_image.nii\n",
            "Created output directory: /kaggle/working/png_slices/patient-96-4_image.nii\n",
            "Created output directory: /kaggle/working/png_slices/patient-99-4_image.nii\n",
            "Created output directory: /kaggle/working/png_slices/patient-97-4_image.nii\n"
          ]
        }
      ]
    },
    {
      "cell_type": "markdown",
      "metadata": {
        "id": "de53980e"
      },
      "source": [
        "## Load and process nifti files\n",
        "\n",
        "### Subtask:\n",
        "Load each `.nii.gz` file using `nibabel`, get the image data, and determine the number of slices.\n"
      ]
    },
    {
      "cell_type": "markdown",
      "metadata": {
        "id": "aa9e6f40"
      },
      "source": [
        "**Reasoning**:\n",
        "Iterate through the list of NIfTI files, load each one, get the data, and determine the number of slices.\n",
        "\n"
      ]
    },
    {
      "cell_type": "code",
      "metadata": {
        "colab": {
          "base_uri": "https://localhost:8080/"
        },
        "id": "ff0231b7",
        "outputId": "a56c1952-c615-4ecf-f7ac-d54e8886c8d7"
      },
      "source": [
        "for nii_file_path in nii_gz_files:\n",
        "    # Load the NIfTI image\n",
        "    img = nib.load(nii_file_path)\n",
        "\n",
        "    # Get the image data\n",
        "    data = img.get_fdata()\n",
        "\n",
        "    # Determine the number of slices (last dimension of the shape)\n",
        "    num_slices = data.shape[-1]\n",
        "\n",
        "    # Optional: Print shape and number of slices\n",
        "    print(f\"File: {nii_file_path}\")\n",
        "    print(f\"Data shape: {data.shape}\")\n",
        "    print(f\"Number of slices: {num_slices}\\n\")"
      ],
      "execution_count": 44,
      "outputs": [
        {
          "output_type": "stream",
          "name": "stdout",
          "text": [
            "File: /kaggle/working/cardiacudc_new/cardiacUDC_dataset/Site_R_73/patient-98-4_image.nii.gz\n",
            "Data shape: (800, 600, 104)\n",
            "Number of slices: 104\n",
            "\n",
            "File: /kaggle/working/cardiacudc_new/cardiacUDC_dataset/Site_R_73/patient-93-4_image.nii.gz\n",
            "Data shape: (800, 600, 174)\n",
            "Number of slices: 174\n",
            "\n",
            "File: /kaggle/working/cardiacudc_new/cardiacUDC_dataset/Site_R_73/patient-95-4_image.nii.gz\n",
            "Data shape: (1024, 768, 133)\n",
            "Number of slices: 133\n",
            "\n",
            "File: /kaggle/working/cardiacudc_new/cardiacUDC_dataset/Site_R_73/patient-96-4_image.nii.gz\n",
            "Data shape: (800, 600, 140)\n",
            "Number of slices: 140\n",
            "\n",
            "File: /kaggle/working/cardiacudc_new/cardiacUDC_dataset/Site_R_73/patient-99-4_image.nii.gz\n",
            "Data shape: (800, 600, 117)\n",
            "Number of slices: 117\n",
            "\n",
            "File: /kaggle/working/cardiacudc_new/cardiacUDC_dataset/Site_R_73/patient-97-4_image.nii.gz\n",
            "Data shape: (800, 600, 92)\n",
            "Number of slices: 92\n",
            "\n"
          ]
        }
      ]
    },
    {
      "cell_type": "markdown",
      "metadata": {
        "id": "b8c2197f"
      },
      "source": [
        "## Save slices as png\n",
        "\n",
        "### Subtask:\n",
        "Iterate through each slice of the image data and save it as a `.png` file in the corresponding output directory.\n"
      ]
    },
    {
      "cell_type": "markdown",
      "metadata": {
        "id": "56c65c08"
      },
      "source": [
        "**Reasoning**:\n",
        "Iterate through each NIfTI file, load the image data, determine the number of slices, and save each slice as a PNG image in the corresponding output directory.\n",
        "\n"
      ]
    },
    {
      "cell_type": "code",
      "metadata": {
        "colab": {
          "base_uri": "https://localhost:8080/"
        },
        "id": "d1da8d11",
        "outputId": "97468807-c43d-4a0b-d972-7d3b08529f6c"
      },
      "source": [
        "import os\n",
        "import nibabel as nib\n",
        "import matplotlib.pyplot as plt\n",
        "\n",
        "for nii_file_path in nii_gz_files:\n",
        "    # Load the NIfTI image\n",
        "    img = nib.load(nii_file_path)\n",
        "\n",
        "    # Get the image data\n",
        "    data = img.get_fdata()\n",
        "\n",
        "    # Determine the number of slices (last dimension of the shape)\n",
        "    num_slices = data.shape[-1]\n",
        "\n",
        "    # Construct the output directory path\n",
        "    file_name = os.path.basename(nii_file_path)\n",
        "    dir_name = os.path.splitext(file_name)[0] # Remove .gz and .nii extensions\n",
        "    output_dir = os.path.join(output_base_dir, dir_name)\n",
        "\n",
        "    # Iterate through the slices and save as PNG\n",
        "    for i in range(num_slices):\n",
        "        # Select the current slice\n",
        "        slice_data = data[:, :, i]\n",
        "\n",
        "        # Construct the output PNG file path\n",
        "        output_png_path = os.path.join(output_dir, f\"{dir_name}_slice_{i:03d}.png\")\n",
        "\n",
        "        # Save the slice as a PNG file\n",
        "        plt.imsave(output_png_path, slice_data, cmap='gray')\n",
        "\n",
        "    print(f\"Processed {file_name} and saved {num_slices} slices to {output_dir}\")"
      ],
      "execution_count": 45,
      "outputs": [
        {
          "output_type": "stream",
          "name": "stdout",
          "text": [
            "Processed patient-98-4_image.nii.gz and saved 104 slices to /kaggle/working/png_slices/patient-98-4_image.nii\n",
            "Processed patient-93-4_image.nii.gz and saved 174 slices to /kaggle/working/png_slices/patient-93-4_image.nii\n",
            "Processed patient-95-4_image.nii.gz and saved 133 slices to /kaggle/working/png_slices/patient-95-4_image.nii\n",
            "Processed patient-96-4_image.nii.gz and saved 140 slices to /kaggle/working/png_slices/patient-96-4_image.nii\n",
            "Processed patient-99-4_image.nii.gz and saved 117 slices to /kaggle/working/png_slices/patient-99-4_image.nii\n",
            "Processed patient-97-4_image.nii.gz and saved 92 slices to /kaggle/working/png_slices/patient-97-4_image.nii\n"
          ]
        }
      ]
    },
    {
      "cell_type": "markdown",
      "metadata": {
        "id": "7aaa0fb8"
      },
      "source": [
        "## Summary:\n",
        "\n",
        "### Data Analysis Key Findings\n",
        "\n",
        "* A total of 6 `.nii.gz` files were found in the specified dataset directory.\n",
        "* Corresponding output directories were successfully created for each of the 6 `.nii.gz` files within the `/kaggle/working/png_slices` base directory.\n",
        "* The shape and number of slices were successfully determined for each loaded NIfTI file.\n",
        "* For each `.nii.gz` file, every slice was extracted and saved as a grayscale PNG file in its respective output directory.\n",
        "\n",
        "### Insights or Next Steps\n",
        "\n",
        "* The generated PNG slices can now be used for further image processing or analysis tasks, such as training a deep learning model.\n",
        "* Consider adding error handling for potential issues like file corruption or invalid NIfTI formats.\n"
      ]
    },
    {
      "cell_type": "code",
      "source": [],
      "metadata": {
        "id": "w9gc_NNxi9jg"
      },
      "execution_count": null,
      "outputs": []
    },
    {
      "cell_type": "code",
      "metadata": {
        "colab": {
          "base_uri": "https://localhost:8080/",
          "height": 17
        },
        "id": "7d64753f",
        "outputId": "58e636ac-9847-4d1c-82dd-6b9b4f19746c"
      },
      "source": [
        "from google.colab import files\n",
        "\n",
        "# Replace 'path/to/your/slice.png' with the actual path to the PNG slice you want to download\n",
        "try:\n",
        "  files.download('/kaggle/working/png_slices/patient-93-4_image.nii/patient-93-4_image.nii_slice_050.png')\n",
        "except FileNotFoundError:\n",
        "  print(\"Make sure the file path is correct and the file exists.\")"
      ],
      "execution_count": 46,
      "outputs": [
        {
          "output_type": "display_data",
          "data": {
            "text/plain": [
              "<IPython.core.display.Javascript object>"
            ],
            "application/javascript": [
              "\n",
              "    async function download(id, filename, size) {\n",
              "      if (!google.colab.kernel.accessAllowed) {\n",
              "        return;\n",
              "      }\n",
              "      const div = document.createElement('div');\n",
              "      const label = document.createElement('label');\n",
              "      label.textContent = `Downloading \"${filename}\": `;\n",
              "      div.appendChild(label);\n",
              "      const progress = document.createElement('progress');\n",
              "      progress.max = size;\n",
              "      div.appendChild(progress);\n",
              "      document.body.appendChild(div);\n",
              "\n",
              "      const buffers = [];\n",
              "      let downloaded = 0;\n",
              "\n",
              "      const channel = await google.colab.kernel.comms.open(id);\n",
              "      // Send a message to notify the kernel that we're ready.\n",
              "      channel.send({})\n",
              "\n",
              "      for await (const message of channel.messages) {\n",
              "        // Send a message to notify the kernel that we're ready.\n",
              "        channel.send({})\n",
              "        if (message.buffers) {\n",
              "          for (const buffer of message.buffers) {\n",
              "            buffers.push(buffer);\n",
              "            downloaded += buffer.byteLength;\n",
              "            progress.value = downloaded;\n",
              "          }\n",
              "        }\n",
              "      }\n",
              "      const blob = new Blob(buffers, {type: 'application/binary'});\n",
              "      const a = document.createElement('a');\n",
              "      a.href = window.URL.createObjectURL(blob);\n",
              "      a.download = filename;\n",
              "      div.appendChild(a);\n",
              "      a.click();\n",
              "      div.remove();\n",
              "    }\n",
              "  "
            ]
          },
          "metadata": {}
        },
        {
          "output_type": "display_data",
          "data": {
            "text/plain": [
              "<IPython.core.display.Javascript object>"
            ],
            "application/javascript": [
              "download(\"download_8acbd7c7-b7d2-4454-8bfe-79166d81afd7\", \"patient-93-4_image.nii_slice_050.png\", 176428)"
            ]
          },
          "metadata": {}
        }
      ]
    },
    {
      "cell_type": "code",
      "metadata": {
        "colab": {
          "base_uri": "https://localhost:8080/"
        },
        "id": "c53e6f73",
        "outputId": "9492e67f-508e-4c19-b93a-7ce4f8f4e064"
      },
      "source": [
        "import os\n",
        "import shutil\n",
        "\n",
        "# Define the directory containing the PNG slices\n",
        "png_slices_dir = '/kaggle/working/png_slices'\n",
        "\n",
        "# Define the output path for the zip file\n",
        "zip_file_path = '/kaggle/working/png_slices.zip'\n",
        "\n",
        "# Create a zip archive of the png_slices directory\n",
        "shutil.make_archive(png_slices_dir, 'zip', png_slices_dir)\n",
        "\n",
        "print(f\"Created zip file: {zip_file_path}\")"
      ],
      "execution_count": 47,
      "outputs": [
        {
          "output_type": "stream",
          "name": "stdout",
          "text": [
            "Created zip file: /kaggle/working/png_slices.zip\n"
          ]
        }
      ]
    },
    {
      "cell_type": "code",
      "metadata": {
        "colab": {
          "base_uri": "https://localhost:8080/",
          "height": 17
        },
        "id": "03c5ef42",
        "outputId": "92532b0f-436e-415f-f0e1-9be51e77aca1"
      },
      "source": [
        "from google.colab import files\n",
        "\n",
        "# Define the path to the zip file\n",
        "zip_file_path = '/kaggle/working/png_slices.zip'\n",
        "\n",
        "# Download the zip file\n",
        "try:\n",
        "  files.download(zip_file_path)\n",
        "except FileNotFoundError:\n",
        "  print(\"Make sure the zip file path is correct and the file exists.\")"
      ],
      "execution_count": 48,
      "outputs": [
        {
          "output_type": "display_data",
          "data": {
            "text/plain": [
              "<IPython.core.display.Javascript object>"
            ],
            "application/javascript": [
              "\n",
              "    async function download(id, filename, size) {\n",
              "      if (!google.colab.kernel.accessAllowed) {\n",
              "        return;\n",
              "      }\n",
              "      const div = document.createElement('div');\n",
              "      const label = document.createElement('label');\n",
              "      label.textContent = `Downloading \"${filename}\": `;\n",
              "      div.appendChild(label);\n",
              "      const progress = document.createElement('progress');\n",
              "      progress.max = size;\n",
              "      div.appendChild(progress);\n",
              "      document.body.appendChild(div);\n",
              "\n",
              "      const buffers = [];\n",
              "      let downloaded = 0;\n",
              "\n",
              "      const channel = await google.colab.kernel.comms.open(id);\n",
              "      // Send a message to notify the kernel that we're ready.\n",
              "      channel.send({})\n",
              "\n",
              "      for await (const message of channel.messages) {\n",
              "        // Send a message to notify the kernel that we're ready.\n",
              "        channel.send({})\n",
              "        if (message.buffers) {\n",
              "          for (const buffer of message.buffers) {\n",
              "            buffers.push(buffer);\n",
              "            downloaded += buffer.byteLength;\n",
              "            progress.value = downloaded;\n",
              "          }\n",
              "        }\n",
              "      }\n",
              "      const blob = new Blob(buffers, {type: 'application/binary'});\n",
              "      const a = document.createElement('a');\n",
              "      a.href = window.URL.createObjectURL(blob);\n",
              "      a.download = filename;\n",
              "      div.appendChild(a);\n",
              "      a.click();\n",
              "      div.remove();\n",
              "    }\n",
              "  "
            ]
          },
          "metadata": {}
        },
        {
          "output_type": "display_data",
          "data": {
            "text/plain": [
              "<IPython.core.display.Javascript object>"
            ],
            "application/javascript": [
              "download(\"download_e8c07ebd-7d8a-4939-a253-3518fb1b6fa6\", \"png_slices.zip\", 121708271)"
            ]
          },
          "metadata": {}
        }
      ]
    }
  ]
}